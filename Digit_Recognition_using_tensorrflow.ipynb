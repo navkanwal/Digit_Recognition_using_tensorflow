{
 "cells": [
  {
   "cell_type": "code",
   "execution_count": 1,
   "id": "f4820247",
   "metadata": {},
   "outputs": [],
   "source": [
    "import pandas as pd\n",
    "import numpy as np\n",
    "import matplotlib.pyplot as plt\n",
    "import seaborn as sns\n"
   ]
  },
  {
   "cell_type": "code",
   "execution_count": 2,
   "id": "9bff6c6c",
   "metadata": {},
   "outputs": [],
   "source": [
    "import tensorflow as tf\n"
   ]
  },
  {
   "cell_type": "code",
   "execution_count": 3,
   "id": "ad83e37a",
   "metadata": {},
   "outputs": [],
   "source": [
    "mnist = tf.keras.datasets.mnist\n",
    "(x_train,y_train),(x_test,y_test) = mnist.load_data() "
   ]
  },
  {
   "cell_type": "code",
   "execution_count": 4,
   "id": "a8297e85",
   "metadata": {},
   "outputs": [
    {
     "data": {
      "text/plain": [
       "(60000, 28, 28)"
      ]
     },
     "execution_count": 4,
     "metadata": {},
     "output_type": "execute_result"
    }
   ],
   "source": [
    "x_train.shape"
   ]
  },
  {
   "cell_type": "code",
   "execution_count": 5,
   "id": "9a71f814",
   "metadata": {},
   "outputs": [
    {
     "name": "stdout",
     "output_type": "stream",
     "text": [
      "(10000, 28, 28)\n"
     ]
    }
   ],
   "source": [
    "print(x_test.shape)"
   ]
  },
  {
   "cell_type": "code",
   "execution_count": 6,
   "id": "51206947",
   "metadata": {},
   "outputs": [
    {
     "name": "stdout",
     "output_type": "stream",
     "text": [
      "(60000,)\n"
     ]
    }
   ],
   "source": [
    "print(y_train.shape)"
   ]
  },
  {
   "cell_type": "code",
   "execution_count": 7,
   "id": "b232af71",
   "metadata": {},
   "outputs": [
    {
     "name": "stdout",
     "output_type": "stream",
     "text": [
      "(10000,)\n"
     ]
    }
   ],
   "source": [
    "print(y_test.shape)"
   ]
  },
  {
   "cell_type": "code",
   "execution_count": 8,
   "id": "fd4ec98b",
   "metadata": {},
   "outputs": [
    {
     "name": "stdout",
     "output_type": "stream",
     "text": [
      "[0 1 2 3 4 5 6 7 8 9]\n"
     ]
    }
   ],
   "source": [
    "print(np.unique(y_train))"
   ]
  },
  {
   "cell_type": "code",
   "execution_count": 9,
   "id": "f1f18e08",
   "metadata": {},
   "outputs": [
    {
     "name": "stdout",
     "output_type": "stream",
     "text": [
      "[0 1 2 3 4 5 6 7 8 9]\n"
     ]
    }
   ],
   "source": [
    "print(np.unique(y_test))"
   ]
  },
  {
   "cell_type": "code",
   "execution_count": 10,
   "id": "8158f664",
   "metadata": {},
   "outputs": [
    {
     "name": "stdout",
     "output_type": "stream",
     "text": [
      "10\n"
     ]
    }
   ],
   "source": [
    "print(len(np.unique(y_test)))"
   ]
  },
  {
   "cell_type": "code",
   "execution_count": 11,
   "id": "df08ccfe",
   "metadata": {},
   "outputs": [
    {
     "data": {
      "text/plain": [
       "<matplotlib.image.AxesImage at 0x2296dec12e0>"
      ]
     },
     "execution_count": 11,
     "metadata": {},
     "output_type": "execute_result"
    },
    {
     "data": {
      "image/png": "[encoded data removed]",
      "text/plain": [
       "<Figure size 640x480 with 1 Axes>"
      ]
     },
     "metadata": {},
     "output_type": "display_data"
    }
   ],
   "source": [
    "plt.imshow(x_train[0],cmap='Greys')"
   ]
  },
  {
   "cell_type": "code",
   "execution_count": 12,
   "id": "72c8844c",
   "metadata": {},
   "outputs": [
    {
     "data": {
      "text/plain": [
       "5"
      ]
     },
     "execution_count": 12,
     "metadata": {},
     "output_type": "execute_result"
    }
   ],
   "source": [
    "y_train[0]"
   ]
  },
  {
   "cell_type": "code",
   "execution_count": 13,
   "id": "4fd8c298",
   "metadata": {},
   "outputs": [],
   "source": [
    "#we need to preprocess the data and convert it into float between the range 0 and 1 \n",
    "x_trian,x_test=x_train/255.0,x_test/255.0"
   ]
  },
  {
   "cell_type": "code",
   "execution_count": 14,
   "id": "de567455",
   "metadata": {},
   "outputs": [],
   "source": [
    "#importing libraries to build a neural network\n",
    "from tensorflow.keras.layers import Dense\n",
    "from tensorflow.keras.layers import Flatten\n",
    "from tensorflow.keras import Sequential"
   ]
  },
  {
   "cell_type": "code",
   "execution_count": 15,
   "id": "3e8037f7",
   "metadata": {},
   "outputs": [],
   "source": [
    "layer_1 = Flatten(input_shape=(28,28))\n",
    "layer_2 = Dense(units = 512,activation='relu')\n",
    "layer_3 = Dense(units=10,activation = 'softmax')"
   ]
  },
  {
   "cell_type": "code",
   "execution_count": 16,
   "id": "b6937bf5",
   "metadata": {},
   "outputs": [],
   "source": [
    "model  = Sequential([layer_1,layer_2,layer_3])\n",
    "model.compile(optimizer='rmsprop',loss='sparse_categorical_crossentropy',metrics=['accuracy'])"
   ]
  },
  {
   "cell_type": "code",
   "execution_count": 17,
   "id": "e8f1ec04",
   "metadata": {},
   "outputs": [
    {
     "name": "stdout",
     "output_type": "stream",
     "text": [
      "Epoch 1/10\n",
      "235/235 [==============================] - 5s 20ms/step - loss: 7.1535 - accuracy: 0.8857\n",
      "Epoch 2/10\n",
      "235/235 [==============================] - 5s 20ms/step - loss: 0.7498 - accuracy: 0.9509\n",
      "Epoch 3/10\n",
      "235/235 [==============================] - 5s 20ms/step - loss: 0.4204 - accuracy: 0.9650\n",
      "Epoch 4/10\n",
      "235/235 [==============================] - 5s 21ms/step - loss: 0.3279 - accuracy: 0.9711\n",
      "Epoch 5/10\n",
      "235/235 [==============================] - 5s 21ms/step - loss: 0.2689 - accuracy: 0.9777\n",
      "Epoch 6/10\n",
      "235/235 [==============================] - 5s 20ms/step - loss: 0.2235 - accuracy: 0.9810\n",
      "Epoch 7/10\n",
      "235/235 [==============================] - 5s 21ms/step - loss: 0.2036 - accuracy: 0.9832\n",
      "Epoch 8/10\n",
      "235/235 [==============================] - 5s 21ms/step - loss: 0.1968 - accuracy: 0.9841\n",
      "Epoch 9/10\n",
      "235/235 [==============================] - 5s 20ms/step - loss: 0.1645 - accuracy: 0.9870\n",
      "Epoch 10/10\n",
      "235/235 [==============================] - 5s 21ms/step - loss: 0.1629 - accuracy: 0.9878\n"
     ]
    }
   ],
   "source": [
    " md = model.fit(x_train,y_train,epochs=10,batch_size=256)"
   ]
  },
  {
   "cell_type": "code",
   "execution_count": 18,
   "id": "cc91d0a9",
   "metadata": {},
   "outputs": [
    {
     "data": {
      "text/plain": [
       "[<matplotlib.lines.Line2D at 0x22976907730>]"
      ]
     },
     "execution_count": 18,
     "metadata": {},
     "output_type": "execute_result"
    },
    {
     "data": {
      "image/png": "[encoded data removed]",
      "text/plain": [
       "<Figure size 640x480 with 1 Axes>"
      ]
     },
     "metadata": {},
     "output_type": "display_data"
    }
   ],
   "source": [
    "plt.xlabel('Epoch Number')\n",
    "plt.ylabel(\"Loss Magnitude\")\n",
    "plt.plot(md.history['loss'])"
   ]
  },
  {
   "cell_type": "code",
   "execution_count": 19,
   "id": "3c8ae300",
   "metadata": {},
   "outputs": [
    {
     "name": "stdout",
     "output_type": "stream",
     "text": [
      "313/313 [==============================] - 9s 29ms/step - loss: 1.7472 - accuracy: 0.9600\n",
      "Test accuracy: 0.9599999785423279\n"
     ]
    }
   ],
   "source": [
    " eval_loss,eval_acc = model.evaluate(x_test, \n",
    "                                     y_test)\n",
    "print('Test accuracy: {}'.format(eval_acc))"
   ]
  },
  {
   "cell_type": "markdown",
   "id": "2e2e3725",
   "metadata": {},
   "source": [
    "# Model -2"
   ]
  },
  {
   "cell_type": "code",
   "execution_count": 20,
   "id": "62546adb",
   "metadata": {},
   "outputs": [],
   "source": [
    "from tensorflow.keras.layers import Dropout "
   ]
  },
  {
   "cell_type": "code",
   "execution_count": 21,
   "id": "a6a59f02",
   "metadata": {},
   "outputs": [],
   "source": [
    "layer_1_m2 = Flatten(input_shape=(28,28))\n",
    "layer_2_m2 = Dense(units = 128 , activation = 'relu')\n",
    "layer_3_m2 = Dropout(0.2)\n",
    "layer_4_m2 = Dense(units =10,activation = 'softmax')\n",
    "model2 = Sequential([layer_1_m2,layer_2_m2,layer_3_m2,layer_4_m2])\n",
    "model2.compile(optimizer='adam',\n",
    "               loss='sparse_categorical_crossentropy',\n",
    "               metrics=['accuracy'])\n",
    "\n",
    "\n"
   ]
  },
  {
   "cell_type": "code",
   "execution_count": 22,
   "id": "a4ce4ce1",
   "metadata": {},
   "outputs": [
    {
     "name": "stdout",
     "output_type": "stream",
     "text": [
      "Epoch 1/10\n",
      "235/235 [==============================] - 3s 10ms/step - loss: 8.5361 - accuracy: 0.7417\n",
      "Epoch 2/10\n",
      "235/235 [==============================] - 2s 10ms/step - loss: 0.9109 - accuracy: 0.8050\n",
      "Epoch 3/10\n",
      "235/235 [==============================] - 2s 10ms/step - loss: 0.6406 - accuracy: 0.8471\n",
      "Epoch 4/10\n",
      "235/235 [==============================] - 3s 11ms/step - loss: 0.4987 - accuracy: 0.8734\n",
      "Epoch 5/10\n",
      "235/235 [==============================] - 2s 11ms/step - loss: 0.4275 - accuracy: 0.8896\n",
      "Epoch 6/10\n",
      "235/235 [==============================] - 2s 10ms/step - loss: 0.3773 - accuracy: 0.9007\n",
      "Epoch 7/10\n",
      "235/235 [==============================] - 2s 10ms/step - loss: 0.3254 - accuracy: 0.9098\n",
      "Epoch 8/10\n",
      "235/235 [==============================] - 2s 10ms/step - loss: 0.2947 - accuracy: 0.9179\n",
      "Epoch 9/10\n",
      "235/235 [==============================] - 3s 11ms/step - loss: 0.2644 - accuracy: 0.9264\n",
      "Epoch 10/10\n",
      "235/235 [==============================] - 2s 10ms/step - loss: 0.2513 - accuracy: 0.9286\n"
     ]
    }
   ],
   "source": [
    "h = model2.fit(x_train, y_train,\n",
    "               epochs=10,\n",
    "               batch_size=256)"
   ]
  },
  {
   "cell_type": "code",
   "execution_count": 23,
   "id": "cde010f3",
   "metadata": {},
   "outputs": [
    {
     "data": {
      "text/plain": [
       "[<matplotlib.lines.Line2D at 0x22979aa44c0>]"
      ]
     },
     "execution_count": 23,
     "metadata": {},
     "output_type": "execute_result"
    },
    {
     "data": {
      "image/png": "[encoded data removed]",
      "text/plain": [
       "<Figure size 640x480 with 1 Axes>"
      ]
     },
     "metadata": {},
     "output_type": "display_data"
    }
   ],
   "source": [
    "import matplotlib.pyplot as plt\n",
    "plt.xlabel('Epoch Number')\n",
    "plt.ylabel(\"Loss Magnitude\")\n",
    "plt.plot(h.history['loss'])"
   ]
  },
  {
   "cell_type": "code",
   "execution_count": 24,
   "id": "2213886a",
   "metadata": {},
   "outputs": [
    {
     "name": "stdout",
     "output_type": "stream",
     "text": [
      "313/313 [==============================] - 4s 13ms/step - loss: 2.3402 - accuracy: 0.0974\n",
      "Test accuracy: 0.09740000218153\n"
     ]
    }
   ],
   "source": [
    "eval_loss, eval_acc = model2.evaluate(x_test, \n",
    "                                      y_test)\n",
    "print('Test accuracy: {}'.format(eval_acc))"
   ]
  },
  {
   "cell_type": "code",
   "execution_count": 25,
   "id": "33e6f87e",
   "metadata": {},
   "outputs": [],
   "source": [
    "#hence we can conclude that model-1 is much more accurate than model -2.."
   ]
  }
 ],
 "metadata": {
  "kernelspec": {
   "display_name": "Python 3 (ipykernel)",
   "language": "python",
   "name": "python3"
  },
  "language_info": {
   "codemirror_mode": {
    "name": "ipython",
    "version": 3
   },
   "file_extension": ".py",
   "mimetype": "text/x-python",
   "name": "python",
   "nbconvert_exporter": "python",
   "pygments_lexer": "ipython3",
   "version": "3.9.18"
  }
 },
 "nbformat": 4,
 "nbformat_minor": 5
}
